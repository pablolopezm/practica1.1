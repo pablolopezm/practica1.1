{
 "cells": [
  {
   "cell_type": "code",
   "execution_count": null,
   "metadata": {},
   "outputs": [],
   "source": [
    "#!/usr/bin/env python\n",
    "# Cálculo de emisións\n",
    "# Variables\n",
    "KMS_DIARIOS = 20\n",
    "DIAS_LABORAIS_SEMANAIS = 5\n",
    "SEMANAS = 20\n",
    "\n",
    "# Cada medio de transporte ten o seu índice de emisións medio (gramos por km)\n",
    "# https://mvw.moviLidad-idae.es/destacados/emisiones-de-c02-por-modos-de-transporte-motorizado\n",
    "EMISION_X_KM_COCHE = 121\n",
    "EMISION_X_KM_MOTO = 100\n",
    "\n",
    "emisions_coche = KMS_DIARIOS * DIAS_LABORAIS_SEMANAIS * SEMANAS * EMISION_X_KM_COCHE\n",
    "emisions_moto = KMS_DIARIOS * DIAS_LABORAIS_SEMANAIS * SEMANAS * EMISION_X_KM_MOTO\n",
    "cantidade_de_emisions = emisions_coche - emisions_moto\n",
    "\n",
    "print('O coche consume' , emisions_coche, 'gCO2' )\n",
    "print('A moto consume' , emisions_moto , 'gCO2' )\n",
    "print('A moto consume' , cantidade_de_emisions, 'menos ca o coche' , 'gCO2' )\n"
   ]
  }
 ],
 "metadata": {
  "language_info": {
   "name": "python"
  }
 },
 "nbformat": 4,
 "nbformat_minor": 2
}
